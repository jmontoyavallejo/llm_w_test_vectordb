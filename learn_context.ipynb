{
 "cells": [
  {
   "cell_type": "code",
   "execution_count": 1,
   "metadata": {},
   "outputs": [
    {
     "name": "stderr",
     "output_type": "stream",
     "text": [
      "d:\\Codigos_python\\GenAILabs\\SelfHostedLLMDemo\\.venv\\Lib\\site-packages\\tqdm\\auto.py:21: TqdmWarning: IProgress not found. Please update jupyter and ipywidgets. See https://ipywidgets.readthedocs.io/en/stable/user_install.html\n",
      "  from .autonotebook import tqdm as notebook_tqdm\n"
     ]
    }
   ],
   "source": [
    "from langchain.document_loaders import TextLoader\n",
    "from langchain.text_splitter import CharacterTextSplitter\n",
    "from langchain.vectorstores import Epsilla\n",
    "from pyepsilla import vectordb\n",
    "from sentence_transformers import SentenceTransformer\n",
    "from tqdm import tqdm\n",
    "from typing import List\n",
    "from glob import glob"
   ]
  },
  {
   "cell_type": "code",
   "execution_count": 2,
   "metadata": {},
   "outputs": [],
   "source": [
    "# Local embedding model\n",
    "model = SentenceTransformer('all-MiniLM-L6-v2')\n",
    "\n",
    "# Get list of all files in \"./documents/\"\n",
    "files = glob(\"./documents/*\")\n",
    "\n",
    "class LocalEmbeddings():\n",
    "  def embed_documents(self, texts: List[str]) -> List[List[float]]:\n",
    "    return model.encode(texts).tolist()\n",
    "\n",
    "embeddings = LocalEmbeddings()"
   ]
  },
  {
   "cell_type": "code",
   "execution_count": 3,
   "metadata": {},
   "outputs": [
    {
     "name": "stdout",
     "output_type": "stream",
     "text": [
      "[INFO] Connected to localhost:8888 successfully.\n",
      "[INFO] Connected to localhost:8888 successfully.\n",
      "[INFO] Connected to localhost:8888 successfully.\n",
      "[INFO] Connected to localhost:8888 successfully.\n",
      "[INFO] Connected to localhost:8888 successfully.\n",
      "[INFO] Connected to localhost:8888 successfully.\n",
      "[INFO] Connected to localhost:8888 successfully.\n",
      "[INFO] Connected to localhost:8888 successfully.\n",
      "[INFO] Connected to localhost:8888 successfully.\n",
      "[INFO] Connected to localhost:8888 successfully.\n",
      "[INFO] Connected to localhost:8888 successfully.\n",
      "[INFO] Connected to localhost:8888 successfully.\n",
      "[INFO] Connected to localhost:8888 successfully.\n",
      "[INFO] Connected to localhost:8888 successfully.\n",
      "[INFO] Connected to localhost:8888 successfully.\n",
      "[INFO] Connected to localhost:8888 successfully.\n",
      "[INFO] Connected to localhost:8888 successfully.\n",
      "[INFO] Connected to localhost:8888 successfully.\n",
      "[INFO] Connected to localhost:8888 successfully.\n",
      "[INFO] Connected to localhost:8888 successfully.\n",
      "[INFO] Connected to localhost:8888 successfully.\n",
      "[INFO] Connected to localhost:8888 successfully.\n",
      "[INFO] Connected to localhost:8888 successfully.\n",
      "[INFO] Connected to localhost:8888 successfully.\n",
      "[INFO] Connected to localhost:8888 successfully.\n",
      "[INFO] Connected to localhost:8888 successfully.\n",
      "[INFO] Connected to localhost:8888 successfully.\n",
      "[INFO] Connected to localhost:8888 successfully.\n",
      "[INFO] Connected to localhost:8888 successfully.\n",
      "[INFO] Connected to localhost:8888 successfully.\n",
      "[INFO] Connected to localhost:8888 successfully.\n",
      "[INFO] Connected to localhost:8888 successfully.\n",
      "[INFO] Connected to localhost:8888 successfully.\n",
      "[INFO] Connected to localhost:8888 successfully.\n",
      "[INFO] Connected to localhost:8888 successfully.\n",
      "[INFO] Connected to localhost:8888 successfully.\n",
      "[INFO] Connected to localhost:8888 successfully.\n",
      "[INFO] Connected to localhost:8888 successfully.\n",
      "[INFO] Connected to localhost:8888 successfully.\n",
      "[INFO] Connected to localhost:8888 successfully.\n",
      "[INFO] Connected to localhost:8888 successfully.\n",
      "[INFO] Connected to localhost:8888 successfully.\n",
      "[INFO] Connected to localhost:8888 successfully.\n",
      "[INFO] Connected to localhost:8888 successfully.\n",
      "[INFO] Connected to localhost:8888 successfully.\n",
      "[INFO] Connected to localhost:8888 successfully.\n",
      "[INFO] Connected to localhost:8888 successfully.\n",
      "[INFO] Connected to localhost:8888 successfully.\n",
      "[INFO] Connected to localhost:8888 successfully.\n",
      "[INFO] Connected to localhost:8888 successfully.\n",
      "[INFO] Connected to localhost:8888 successfully.\n",
      "[INFO] Connected to localhost:8888 successfully.\n",
      "[INFO] Connected to localhost:8888 successfully.\n",
      "[INFO] Connected to localhost:8888 successfully.\n",
      "[INFO] Connected to localhost:8888 successfully.\n",
      "[INFO] Connected to localhost:8888 successfully.\n",
      "[INFO] Connected to localhost:8888 successfully.\n",
      "[INFO] Connected to localhost:8888 successfully.\n",
      "[INFO] Connected to localhost:8888 successfully.\n",
      "[INFO] Connected to localhost:8888 successfully.\n",
      "[INFO] Connected to localhost:8888 successfully.\n",
      "[INFO] Connected to localhost:8888 successfully.\n",
      "[INFO] Connected to localhost:8888 successfully.\n",
      "[INFO] Connected to localhost:8888 successfully.\n",
      "[INFO] Connected to localhost:8888 successfully.\n"
     ]
    },
    {
     "name": "stderr",
     "output_type": "stream",
     "text": [
      "Created a chunk of size 1134, which is longer than the specified 1000\n",
      "Created a chunk of size 2395, which is longer than the specified 1000\n"
     ]
    },
    {
     "name": "stdout",
     "output_type": "stream",
     "text": [
      "[INFO] Connected to localhost:8888 successfully.\n",
      "[INFO] Connected to localhost:8888 successfully.\n",
      "[INFO] Connected to localhost:8888 successfully.\n",
      "[INFO] Connected to localhost:8888 successfully.\n",
      "[INFO] Connected to localhost:8888 successfully.\n",
      "[INFO] Connected to localhost:8888 successfully.\n",
      "[INFO] Connected to localhost:8888 successfully.\n",
      "[INFO] Connected to localhost:8888 successfully.\n",
      "[INFO] Connected to localhost:8888 successfully.\n",
      "[INFO] Connected to localhost:8888 successfully.\n",
      "[INFO] Connected to localhost:8888 successfully.\n",
      "[INFO] Connected to localhost:8888 successfully.\n"
     ]
    },
    {
     "name": "stderr",
     "output_type": "stream",
     "text": [
      "Created a chunk of size 1149, which is longer than the specified 1000\n"
     ]
    },
    {
     "name": "stdout",
     "output_type": "stream",
     "text": [
      "[INFO] Connected to localhost:8888 successfully.\n",
      "[INFO] Connected to localhost:8888 successfully.\n",
      "[INFO] Connected to localhost:8888 successfully.\n",
      "[INFO] Connected to localhost:8888 successfully.\n",
      "[INFO] Connected to localhost:8888 successfully.\n",
      "[INFO] Connected to localhost:8888 successfully.\n",
      "[INFO] Connected to localhost:8888 successfully.\n",
      "[INFO] Connected to localhost:8888 successfully.\n",
      "[INFO] Connected to localhost:8888 successfully.\n",
      "[INFO] Connected to localhost:8888 successfully.\n",
      "[INFO] Connected to localhost:8888 successfully.\n",
      "[INFO] Connected to localhost:8888 successfully.\n",
      "[INFO] Connected to localhost:8888 successfully.\n",
      "[INFO] Connected to localhost:8888 successfully.\n",
      "[INFO] Connected to localhost:8888 successfully.\n",
      "[INFO] Connected to localhost:8888 successfully.\n",
      "[INFO] Connected to localhost:8888 successfully.\n",
      "[INFO] Connected to localhost:8888 successfully.\n",
      "[INFO] Connected to localhost:8888 successfully.\n",
      "[INFO] Connected to localhost:8888 successfully.\n",
      "[INFO] Connected to localhost:8888 successfully.\n",
      "[INFO] Connected to localhost:8888 successfully.\n",
      "[INFO] Connected to localhost:8888 successfully.\n",
      "[INFO] Connected to localhost:8888 successfully.\n",
      "[INFO] Connected to localhost:8888 successfully.\n",
      "[INFO] Connected to localhost:8888 successfully.\n",
      "[INFO] Connected to localhost:8888 successfully.\n",
      "[INFO] Connected to localhost:8888 successfully.\n",
      "[INFO] Connected to localhost:8888 successfully.\n",
      "[INFO] Connected to localhost:8888 successfully.\n",
      "[INFO] Connected to localhost:8888 successfully.\n",
      "[INFO] Connected to localhost:8888 successfully.\n",
      "[INFO] Connected to localhost:8888 successfully.\n",
      "[INFO] Connected to localhost:8888 successfully.\n",
      "[INFO] Connected to localhost:8888 successfully.\n",
      "[INFO] Connected to localhost:8888 successfully.\n",
      "[INFO] Connected to localhost:8888 successfully.\n",
      "[INFO] Connected to localhost:8888 successfully.\n",
      "[INFO] Connected to localhost:8888 successfully.\n",
      "[INFO] Connected to localhost:8888 successfully.\n",
      "[INFO] Connected to localhost:8888 successfully.\n",
      "[INFO] Connected to localhost:8888 successfully.\n",
      "[INFO] Connected to localhost:8888 successfully.\n",
      "[INFO] Connected to localhost:8888 successfully.\n",
      "[INFO] Connected to localhost:8888 successfully.\n",
      "[INFO] Connected to localhost:8888 successfully.\n",
      "[INFO] Connected to localhost:8888 successfully.\n",
      "[INFO] Connected to localhost:8888 successfully.\n",
      "[INFO] Connected to localhost:8888 successfully.\n",
      "[INFO] Connected to localhost:8888 successfully.\n",
      "[INFO] Connected to localhost:8888 successfully.\n",
      "[INFO] Connected to localhost:8888 successfully.\n",
      "[INFO] Connected to localhost:8888 successfully.\n",
      "[INFO] Connected to localhost:8888 successfully.\n",
      "[INFO] Connected to localhost:8888 successfully.\n",
      "[INFO] Connected to localhost:8888 successfully.\n",
      "[INFO] Connected to localhost:8888 successfully.\n",
      "[INFO] Connected to localhost:8888 successfully.\n",
      "[INFO] Connected to localhost:8888 successfully.\n",
      "[INFO] Connected to localhost:8888 successfully.\n",
      "[INFO] Connected to localhost:8888 successfully.\n",
      "[INFO] Connected to localhost:8888 successfully.\n",
      "[INFO] Connected to localhost:8888 successfully.\n",
      "[INFO] Connected to localhost:8888 successfully.\n",
      "[INFO] Connected to localhost:8888 successfully.\n",
      "[INFO] Connected to localhost:8888 successfully.\n",
      "[INFO] Connected to localhost:8888 successfully.\n",
      "[INFO] Connected to localhost:8888 successfully.\n",
      "[INFO] Connected to localhost:8888 successfully.\n",
      "[INFO] Connected to localhost:8888 successfully.\n",
      "[INFO] Connected to localhost:8888 successfully.\n",
      "[INFO] Connected to localhost:8888 successfully.\n",
      "[INFO] Connected to localhost:8888 successfully.\n",
      "[INFO] Connected to localhost:8888 successfully.\n",
      "[INFO] Connected to localhost:8888 successfully.\n",
      "[INFO] Connected to localhost:8888 successfully.\n",
      "[INFO] Connected to localhost:8888 successfully.\n",
      "[INFO] Connected to localhost:8888 successfully.\n",
      "[INFO] Connected to localhost:8888 successfully.\n",
      "[INFO] Connected to localhost:8888 successfully.\n",
      "[INFO] Connected to localhost:8888 successfully.\n",
      "[INFO] Connected to localhost:8888 successfully.\n",
      "[INFO] Connected to localhost:8888 successfully.\n",
      "[INFO] Connected to localhost:8888 successfully.\n",
      "[INFO] Connected to localhost:8888 successfully.\n",
      "[INFO] Connected to localhost:8888 successfully.\n",
      "[INFO] Connected to localhost:8888 successfully.\n",
      "[INFO] Connected to localhost:8888 successfully.\n",
      "[INFO] Connected to localhost:8888 successfully.\n",
      "[INFO] Connected to localhost:8888 successfully.\n",
      "[INFO] Connected to localhost:8888 successfully.\n",
      "[INFO] Connected to localhost:8888 successfully.\n",
      "[INFO] Connected to localhost:8888 successfully.\n",
      "[INFO] Connected to localhost:8888 successfully.\n",
      "[INFO] Connected to localhost:8888 successfully.\n",
      "[INFO] Connected to localhost:8888 successfully.\n",
      "[INFO] Connected to localhost:8888 successfully.\n",
      "[INFO] Connected to localhost:8888 successfully.\n",
      "[INFO] Connected to localhost:8888 successfully.\n",
      "[INFO] Connected to localhost:8888 successfully.\n",
      "[INFO] Connected to localhost:8888 successfully.\n",
      "[INFO] Connected to localhost:8888 successfully.\n",
      "[INFO] Connected to localhost:8888 successfully.\n",
      "[INFO] Connected to localhost:8888 successfully.\n",
      "[INFO] Connected to localhost:8888 successfully.\n",
      "[INFO] Connected to localhost:8888 successfully.\n",
      "[INFO] Connected to localhost:8888 successfully.\n",
      "[INFO] Connected to localhost:8888 successfully.\n",
      "[INFO] Connected to localhost:8888 successfully.\n",
      "[INFO] Connected to localhost:8888 successfully.\n",
      "[INFO] Connected to localhost:8888 successfully.\n",
      "[INFO] Connected to localhost:8888 successfully.\n",
      "[INFO] Connected to localhost:8888 successfully.\n",
      "[INFO] Connected to localhost:8888 successfully.\n",
      "[INFO] Connected to localhost:8888 successfully.\n",
      "[INFO] Connected to localhost:8888 successfully.\n",
      "[INFO] Connected to localhost:8888 successfully.\n",
      "[INFO] Connected to localhost:8888 successfully.\n",
      "[INFO] Connected to localhost:8888 successfully.\n",
      "[INFO] Connected to localhost:8888 successfully.\n",
      "[INFO] Connected to localhost:8888 successfully.\n",
      "[INFO] Connected to localhost:8888 successfully.\n",
      "[INFO] Connected to localhost:8888 successfully.\n",
      "[INFO] Connected to localhost:8888 successfully.\n",
      "[INFO] Connected to localhost:8888 successfully.\n",
      "[INFO] Connected to localhost:8888 successfully.\n",
      "[INFO] Connected to localhost:8888 successfully.\n",
      "[INFO] Connected to localhost:8888 successfully.\n",
      "[INFO] Connected to localhost:8888 successfully.\n",
      "[INFO] Connected to localhost:8888 successfully.\n",
      "[INFO] Connected to localhost:8888 successfully.\n",
      "[INFO] Connected to localhost:8888 successfully.\n",
      "[INFO] Connected to localhost:8888 successfully.\n",
      "[INFO] Connected to localhost:8888 successfully.\n",
      "[INFO] Connected to localhost:8888 successfully.\n",
      "[INFO] Connected to localhost:8888 successfully.\n",
      "[INFO] Connected to localhost:8888 successfully.\n",
      "[INFO] Connected to localhost:8888 successfully.\n",
      "[INFO] Connected to localhost:8888 successfully.\n",
      "[INFO] Connected to localhost:8888 successfully.\n",
      "[INFO] Connected to localhost:8888 successfully.\n",
      "[INFO] Connected to localhost:8888 successfully.\n",
      "[INFO] Connected to localhost:8888 successfully.\n",
      "[INFO] Connected to localhost:8888 successfully.\n",
      "[INFO] Connected to localhost:8888 successfully.\n",
      "[INFO] Connected to localhost:8888 successfully.\n",
      "[INFO] Connected to localhost:8888 successfully.\n",
      "[INFO] Connected to localhost:8888 successfully.\n",
      "[INFO] Connected to localhost:8888 successfully.\n",
      "[INFO] Connected to localhost:8888 successfully.\n",
      "[INFO] Connected to localhost:8888 successfully.\n",
      "[INFO] Connected to localhost:8888 successfully.\n",
      "[INFO] Connected to localhost:8888 successfully.\n",
      "[INFO] Connected to localhost:8888 successfully.\n",
      "[INFO] Connected to localhost:8888 successfully.\n",
      "[INFO] Connected to localhost:8888 successfully.\n",
      "[INFO] Connected to localhost:8888 successfully.\n",
      "[INFO] Connected to localhost:8888 successfully.\n",
      "[INFO] Connected to localhost:8888 successfully.\n",
      "[INFO] Connected to localhost:8888 successfully.\n",
      "[INFO] Connected to localhost:8888 successfully.\n",
      "[INFO] Connected to localhost:8888 successfully.\n",
      "[INFO] Connected to localhost:8888 successfully.\n",
      "[INFO] Connected to localhost:8888 successfully.\n",
      "[INFO] Connected to localhost:8888 successfully.\n",
      "[INFO] Connected to localhost:8888 successfully.\n",
      "[INFO] Connected to localhost:8888 successfully.\n",
      "[INFO] Connected to localhost:8888 successfully.\n",
      "[INFO] Connected to localhost:8888 successfully.\n",
      "[INFO] Connected to localhost:8888 successfully.\n",
      "[INFO] Connected to localhost:8888 successfully.\n",
      "[INFO] Connected to localhost:8888 successfully.\n",
      "[INFO] Connected to localhost:8888 successfully.\n",
      "[INFO] Connected to localhost:8888 successfully.\n",
      "[INFO] Connected to localhost:8888 successfully.\n",
      "[INFO] Connected to localhost:8888 successfully.\n",
      "[INFO] Connected to localhost:8888 successfully.\n",
      "[INFO] Connected to localhost:8888 successfully.\n",
      "[INFO] Connected to localhost:8888 successfully.\n",
      "[INFO] Connected to localhost:8888 successfully.\n",
      "[INFO] Connected to localhost:8888 successfully.\n",
      "[INFO] Connected to localhost:8888 successfully.\n",
      "[INFO] Connected to localhost:8888 successfully.\n"
     ]
    },
    {
     "name": "stderr",
     "output_type": "stream",
     "text": [
      "Created a chunk of size 1149, which is longer than the specified 1000\n"
     ]
    },
    {
     "name": "stdout",
     "output_type": "stream",
     "text": [
      "[INFO] Connected to localhost:8888 successfully.\n",
      "[INFO] Connected to localhost:8888 successfully.\n",
      "[INFO] Connected to localhost:8888 successfully.\n",
      "[INFO] Connected to localhost:8888 successfully.\n",
      "[INFO] Connected to localhost:8888 successfully.\n",
      "[INFO] Connected to localhost:8888 successfully.\n",
      "[INFO] Connected to localhost:8888 successfully.\n",
      "[INFO] Connected to localhost:8888 successfully.\n",
      "[INFO] Connected to localhost:8888 successfully.\n",
      "[INFO] Connected to localhost:8888 successfully.\n",
      "[INFO] Connected to localhost:8888 successfully.\n",
      "[INFO] Connected to localhost:8888 successfully.\n",
      "[INFO] Connected to localhost:8888 successfully.\n",
      "[INFO] Connected to localhost:8888 successfully.\n",
      "[INFO] Connected to localhost:8888 successfully.\n",
      "[INFO] Connected to localhost:8888 successfully.\n",
      "[INFO] Connected to localhost:8888 successfully.\n",
      "[INFO] Connected to localhost:8888 successfully.\n",
      "[INFO] Connected to localhost:8888 successfully.\n",
      "[INFO] Connected to localhost:8888 successfully.\n",
      "[INFO] Connected to localhost:8888 successfully.\n",
      "[INFO] Connected to localhost:8888 successfully.\n",
      "[INFO] Connected to localhost:8888 successfully.\n"
     ]
    },
    {
     "name": "stderr",
     "output_type": "stream",
     "text": [
      "Created a chunk of size 1709, which is longer than the specified 1000\n"
     ]
    },
    {
     "name": "stdout",
     "output_type": "stream",
     "text": [
      "[INFO] Connected to localhost:8888 successfully.\n",
      "[INFO] Connected to localhost:8888 successfully.\n",
      "[INFO] Connected to localhost:8888 successfully.\n",
      "[INFO] Connected to localhost:8888 successfully.\n",
      "[INFO] Connected to localhost:8888 successfully.\n",
      "[INFO] Connected to localhost:8888 successfully.\n",
      "[INFO] Connected to localhost:8888 successfully.\n",
      "[INFO] Connected to localhost:8888 successfully.\n",
      "[INFO] Connected to localhost:8888 successfully.\n",
      "[INFO] Connected to localhost:8888 successfully.\n",
      "[INFO] Connected to localhost:8888 successfully.\n",
      "[INFO] Connected to localhost:8888 successfully.\n",
      "[INFO] Connected to localhost:8888 successfully.\n",
      "[INFO] Connected to localhost:8888 successfully.\n",
      "[INFO] Connected to localhost:8888 successfully.\n"
     ]
    },
    {
     "name": "stderr",
     "output_type": "stream",
     "text": [
      "Created a chunk of size 1262, which is longer than the specified 1000\n"
     ]
    },
    {
     "name": "stdout",
     "output_type": "stream",
     "text": [
      "[INFO] Connected to localhost:8888 successfully.\n",
      "[INFO] Connected to localhost:8888 successfully.\n",
      "[INFO] Connected to localhost:8888 successfully.\n",
      "[INFO] Connected to localhost:8888 successfully.\n",
      "[INFO] Connected to localhost:8888 successfully.\n",
      "[INFO] Connected to localhost:8888 successfully.\n",
      "[INFO] Connected to localhost:8888 successfully.\n",
      "[INFO] Connected to localhost:8888 successfully.\n",
      "[INFO] Connected to localhost:8888 successfully.\n",
      "[INFO] Connected to localhost:8888 successfully.\n",
      "[INFO] Connected to localhost:8888 successfully.\n",
      "[INFO] Connected to localhost:8888 successfully.\n",
      "[INFO] Connected to localhost:8888 successfully.\n",
      "[INFO] Connected to localhost:8888 successfully.\n",
      "[INFO] Connected to localhost:8888 successfully.\n",
      "[INFO] Connected to localhost:8888 successfully.\n",
      "[INFO] Connected to localhost:8888 successfully.\n",
      "[INFO] Connected to localhost:8888 successfully.\n",
      "[INFO] Connected to localhost:8888 successfully.\n",
      "[INFO] Connected to localhost:8888 successfully.\n",
      "[INFO] Connected to localhost:8888 successfully.\n",
      "[INFO] Connected to localhost:8888 successfully.\n",
      "[INFO] Connected to localhost:8888 successfully.\n",
      "[INFO] Connected to localhost:8888 successfully.\n",
      "[INFO] Connected to localhost:8888 successfully.\n",
      "[INFO] Connected to localhost:8888 successfully.\n",
      "[INFO] Connected to localhost:8888 successfully.\n"
     ]
    },
    {
     "name": "stderr",
     "output_type": "stream",
     "text": [
      "Created a chunk of size 1059, which is longer than the specified 1000\n"
     ]
    },
    {
     "name": "stdout",
     "output_type": "stream",
     "text": [
      "[INFO] Connected to localhost:8888 successfully.\n",
      "[INFO] Connected to localhost:8888 successfully.\n",
      "[INFO] Connected to localhost:8888 successfully.\n",
      "[INFO] Connected to localhost:8888 successfully.\n",
      "[INFO] Connected to localhost:8888 successfully.\n",
      "[INFO] Connected to localhost:8888 successfully.\n"
     ]
    },
    {
     "name": "stderr",
     "output_type": "stream",
     "text": [
      "Created a chunk of size 2692, which is longer than the specified 1000\n"
     ]
    },
    {
     "name": "stdout",
     "output_type": "stream",
     "text": [
      "[INFO] Connected to localhost:8888 successfully.\n",
      "[INFO] Connected to localhost:8888 successfully.\n",
      "[INFO] Connected to localhost:8888 successfully.\n",
      "[INFO] Connected to localhost:8888 successfully.\n",
      "[INFO] Connected to localhost:8888 successfully.\n"
     ]
    }
   ],
   "source": [
    "for file in files:\n",
    "  loader = TextLoader(file)\n",
    "  documents = loader.load()\n",
    "  splitted_documents = CharacterTextSplitter(separator='\\n', chunk_size=1000, chunk_overlap=200).split_documents(documents)\n",
    "\n",
    "  client = vectordb.Client()\n",
    "  vector_store = Epsilla.from_documents(\n",
    "    splitted_documents,\n",
    "    embeddings,\n",
    "    client,\n",
    "    db_path=\"/tmp/demodb\",\n",
    "    db_name=\"DemoDB\",\n",
    "    collection_name=\"DemoCollection\"\n",
    "  )"
   ]
  },
  {
   "cell_type": "code",
   "execution_count": 4,
   "metadata": {},
   "outputs": [
    {
     "data": {
      "text/plain": [
       "True"
      ]
     },
     "execution_count": 4,
     "metadata": {},
     "output_type": "execute_result"
    }
   ],
   "source": [
    "import torch\n",
    "torch.cuda.is_available()"
   ]
  },
  {
   "cell_type": "code",
   "execution_count": 5,
   "metadata": {},
   "outputs": [
    {
     "data": {
      "text/plain": [
       "1"
      ]
     },
     "execution_count": 5,
     "metadata": {},
     "output_type": "execute_result"
    }
   ],
   "source": [
    "torch.cuda.device_count()"
   ]
  },
  {
   "cell_type": "code",
   "execution_count": 6,
   "metadata": {},
   "outputs": [
    {
     "data": {
      "text/plain": [
       "'NVIDIA GeForce RTX 3090'"
      ]
     },
     "execution_count": 6,
     "metadata": {},
     "output_type": "execute_result"
    }
   ],
   "source": [
    "torch.cuda.get_device_name(0)"
   ]
  },
  {
   "cell_type": "code",
   "execution_count": null,
   "metadata": {},
   "outputs": [],
   "source": []
  }
 ],
 "metadata": {
  "kernelspec": {
   "display_name": ".venv",
   "language": "python",
   "name": "python3"
  },
  "language_info": {
   "codemirror_mode": {
    "name": "ipython",
    "version": 3
   },
   "file_extension": ".py",
   "mimetype": "text/x-python",
   "name": "python",
   "nbconvert_exporter": "python",
   "pygments_lexer": "ipython3",
   "version": "3.11.5"
  }
 },
 "nbformat": 4,
 "nbformat_minor": 2
}
